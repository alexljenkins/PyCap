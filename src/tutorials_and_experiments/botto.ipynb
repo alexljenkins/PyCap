{
 "cells": [
  {
   "cell_type": "code",
   "execution_count": 1,
   "metadata": {},
   "outputs": [],
   "source": [
    "from key import KEY\n",
    "\n",
    "symbol = 'GOOGL'"
   ]
  },
  {
   "cell_type": "code",
   "execution_count": null,
   "metadata": {},
   "outputs": [],
   "source": [
    "def intraday_timeseries(key, symbol):\n",
    "    from alpha_vantage.timeseries import TimeSeries\n",
    "    ts = TimeSeries(key=KEY, output_format='pandas', indexing_type='date')\n",
    "    print(dir(ts))\n",
    "    # Get json object with the intraday data and another with the call's metadata\n",
    "    # data, meta_data = ts.get_intraday(symbol)\n",
    "    data, meta_data = ts.get_daily(symbol)\n",
    "    print(f\"Data:\\n{data}\\nmeta_data:\\n{meta_data}\")\n",
    "\n",
    "intraday_timeseries(KEY, symbol)"
   ]
  },
  {
   "cell_type": "code",
   "execution_count": null,
   "metadata": {},
   "outputs": [],
   "source": [
    "def sector_performance_graph(key):\n",
    "    from alpha_vantage.sectorperformance import SectorPerformances\n",
    "    import matplotlib.pyplot as plt\n",
    "\n",
    "    sp = SectorPerformances(key=key, output_format='pandas')\n",
    "    data, meta_data = sp.get_sector()\n",
    "    data['Rank A: Real-Time Performance'].plot(kind='bar')\n",
    "    plt.title('Real Time Performance (%) per Sector')\n",
    "    plt.tight_layout()\n",
    "    plt.grid()\n",
    "    plt.show()\n",
    "\n",
    "sector_performance_graph(KEY)"
   ]
  },
  {
   "cell_type": "code",
   "execution_count": null,
   "metadata": {},
   "outputs": [],
   "source": [
    "def bollinger_bands(key, symbol):\n",
    "    from alpha_vantage.techindicators import TechIndicators\n",
    "    import matplotlib.pyplot as plt\n",
    "\n",
    "    ti = TechIndicators(key=key, output_format='pandas')\n",
    "    data, meta_data = ti.get_bbands(symbol=symbol, interval='60min', time_period=60)\n",
    "    data.plot()\n",
    "    plt.title('BBbands indicator for  MSFT stock (60 min)')\n",
    "    plt.show()\n",
    "\n",
    "bollinger_bands(KEY, symbol)"
   ]
  },
  {
   "cell_type": "code",
   "execution_count": null,
   "metadata": {},
   "outputs": [],
   "source": [
    "def crypto_currencies(key, symbol, market = 'CNY'):\n",
    "    from alpha_vantage.cryptocurrencies import CryptoCurrencies\n",
    "    import matplotlib.pyplot as plt\n",
    "\n",
    "    cc = CryptoCurrencies(key = key, output_format = 'pandas')\n",
    "    data, meta_data = cc.get_digital_currency_daily(symbol = symbol, market = market)\n",
    "    data['4b. close (USD)'].plot()\n",
    "    plt.tight_layout()\n",
    "    plt.title('Daily close value for bitcoin (BTC)')\n",
    "    plt.grid()\n",
    "    plt.show()\n",
    "\n",
    "crypto_currencies(KEY, 'BTC')"
   ]
  }
 ],
 "metadata": {
  "kernelspec": {
   "display_name": "Python 3",
   "language": "python",
   "name": "python3"
  },
  "language_info": {
   "codemirror_mode": {
    "name": "ipython",
    "version": 3
   },
   "file_extension": ".py",
   "mimetype": "text/x-python",
   "name": "python",
   "nbconvert_exporter": "python",
   "pygments_lexer": "ipython3",
   "version": "3.7.3-final"
  }
 },
 "nbformat": 4,
 "nbformat_minor": 4
}